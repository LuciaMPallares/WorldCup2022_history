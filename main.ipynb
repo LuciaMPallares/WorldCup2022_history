{
 "cells": [
  {
   "cell_type": "code",
   "execution_count": 3,
   "metadata": {},
   "outputs": [],
   "source": [
    "#%pip install webdriver-manager\n",
    "import pandas as pd\n",
    "from selenium import webdriver\n",
    "from selenium.webdriver.chrome.options import Options\n",
    "from webdriver_manager.chrome import ChromeDriverManager\n",
    "from selenium.webdriver.common.by import By\n",
    "import time\n",
    "from functions import * \n",
    "import warnings\n",
    "warnings.filterwarnings('ignore')"
   ]
  },
  {
   "cell_type": "code",
   "execution_count": null,
   "metadata": {},
   "outputs": [],
   "source": [
    "driver=webdriver.Chrome(ChromeDriverManager().install()) \n",
    "url = 'https://www.google.com/search?q=mundial+qatar+fechas&rlz=1C1VDKB_esES1021ES1021&oq=mundial+qatar+fechas&aqs=chrome..69i57j0i512l5j0i22i30l4.3512j1j7&sourceid=chrome&ie=UTF-8#sie=lg;/m/0fp_8fm;2;/m/030q7;mt;fp;1;;;'\n",
    "driver.get(url)\n",
    "\n",
    "time.sleep(2)  # parar 2 segundos\n",
    "\n",
    "#Aceptamos las cookies\n",
    "driver.find_element(\"xpath\", '//*[@id=\"L2AGLb\"]').click()\n",
    "time.sleep(2)  # parar 2 segundos\n",
    "\n",
    "#Esto se utiliza para hacer scroll hacía abajo en la pag.\n",
    "lenOfPage = driver.execute_script(\"window.scrollTo(0, document.body.scrollHeight);var lenOfPage=document.body.scrollHeight;return lenOfPage;\")\n",
    "match=False\n",
    "while(match==False):\n",
    "        lastCount = lenOfPage\n",
    "        time.sleep(2)\n",
    "        lenOfPage = driver.execute_script(\"window.scrollTo(0, document.body.scrollHeight);var lenOfPage=document.body.scrollHeight;return lenOfPage;\")\n",
    "        if lastCount==lenOfPage:\n",
    "            match=True\n",
    "\n",
    "#driver.find_element(\"xpath\", '/html/body/div[7]/div/div[11]/div/div[2]/div[2]/div/div/div[1]/div/block-component/div/div[1]/div/div/div/div[1]/div/div/div/div/div/div/div[2]/div/div/div/ol/li[1]').click()\n",
    "time.sleep(2)  # parar 2 segundos\n",
    "\n",
    "\n",
    "#Guardamos en partidos todas los partidos\n",
    "partidos = driver.find_elements(By.CLASS_NAME, \"KAIX8d\")\n",
    "driver.quit()\n",
    "\n",
    "#-------------------------------------------------------------\n",
    "\n",
    "\n",
    "#Ahora llamamos a la función horarios para que nos muestre el data frame.\n",
    "df=horarios(partidos)"
   ]
  },
  {
   "cell_type": "code",
   "execution_count": 4,
   "metadata": {},
   "outputs": [
    {
     "name": "stdout",
     "output_type": "stream",
     "text": [
      "¿De que partido quieres obtener la información? Equipo1 España\n",
      "Equipo2 England\n"
     ]
    },
    {
     "data": {
      "text/html": [
       "<div>\n",
       "<style scoped>\n",
       "    .dataframe tbody tr th:only-of-type {\n",
       "        vertical-align: middle;\n",
       "    }\n",
       "\n",
       "    .dataframe tbody tr th {\n",
       "        vertical-align: top;\n",
       "    }\n",
       "\n",
       "    .dataframe thead th {\n",
       "        text-align: right;\n",
       "    }\n",
       "</style>\n",
       "<table border=\"1\" class=\"dataframe\">\n",
       "  <thead>\n",
       "    <tr style=\"text-align: right;\">\n",
       "      <th></th>\n",
       "      <th>Year</th>\n",
       "      <th>Home Team Name</th>\n",
       "      <th>Home Team Gol</th>\n",
       "      <th>Away Team Name</th>\n",
       "      <th>Away Team Gol</th>\n",
       "      <th>Winner</th>\n",
       "    </tr>\n",
       "  </thead>\n",
       "  <tbody>\n",
       "    <tr>\n",
       "      <th>0</th>\n",
       "      <td>1950</td>\n",
       "      <td>Spain</td>\n",
       "      <td>1</td>\n",
       "      <td>England</td>\n",
       "      <td>0</td>\n",
       "      <td>Spain</td>\n",
       "    </tr>\n",
       "    <tr>\n",
       "      <th>1</th>\n",
       "      <td>1982</td>\n",
       "      <td>Spain</td>\n",
       "      <td>0</td>\n",
       "      <td>England</td>\n",
       "      <td>0</td>\n",
       "      <td>Tie</td>\n",
       "    </tr>\n",
       "  </tbody>\n",
       "</table>\n",
       "</div>"
      ],
      "text/plain": [
       "   Year Home Team Name  Home Team Gol Away Team Name  Away Team Gol Winner\n",
       "0  1950          Spain              1        England              0  Spain\n",
       "1  1982          Spain              0        England              0    Tie"
      ]
     },
     "execution_count": 4,
     "metadata": {},
     "output_type": "execute_result"
    }
   ],
   "source": [
    "equipo1=input('¿De que partido quieres obtener la información? Equipo1 ')\n",
    "equipo2=input('Equipo2 ')\n",
    "\n",
    "\n",
    "ultimos_5_partidos=lastmatchs(eng(equipo1),eng(equipo2))\n",
    "ultimos_5_partidos\n"
   ]
  },
  {
   "cell_type": "code",
   "execution_count": 5,
   "metadata": {},
   "outputs": [
    {
     "data": {
      "text/html": [
       "<div>\n",
       "<style scoped>\n",
       "    .dataframe tbody tr th:only-of-type {\n",
       "        vertical-align: middle;\n",
       "    }\n",
       "\n",
       "    .dataframe tbody tr th {\n",
       "        vertical-align: top;\n",
       "    }\n",
       "\n",
       "    .dataframe thead th {\n",
       "        text-align: right;\n",
       "    }\n",
       "</style>\n",
       "<table border=\"1\" class=\"dataframe\">\n",
       "  <thead>\n",
       "    <tr style=\"text-align: right;\">\n",
       "      <th></th>\n",
       "      <th>Country</th>\n",
       "      <th>Wins</th>\n",
       "      <th>Draws</th>\n",
       "      <th>Loses</th>\n",
       "      <th>World Cup 1st</th>\n",
       "      <th>World Cup 2nd</th>\n",
       "      <th>World Cup 3rd</th>\n",
       "    </tr>\n",
       "  </thead>\n",
       "  <tbody>\n",
       "    <tr>\n",
       "      <th>0</th>\n",
       "      <td>Spain</td>\n",
       "      <td>1</td>\n",
       "      <td>1</td>\n",
       "      <td>0</td>\n",
       "      <td>1</td>\n",
       "      <td>0</td>\n",
       "      <td>0</td>\n",
       "    </tr>\n",
       "    <tr>\n",
       "      <th>1</th>\n",
       "      <td>England</td>\n",
       "      <td>0</td>\n",
       "      <td>1</td>\n",
       "      <td>1</td>\n",
       "      <td>1</td>\n",
       "      <td>0</td>\n",
       "      <td>0</td>\n",
       "    </tr>\n",
       "  </tbody>\n",
       "</table>\n",
       "</div>"
      ],
      "text/plain": [
       "   Country  Wins  Draws  Loses  World Cup 1st  World Cup 2nd  World Cup 3rd\n",
       "0    Spain     1      1      0              1              0              0\n",
       "1  England     0      1      1              1              0              0"
      ]
     },
     "execution_count": 5,
     "metadata": {},
     "output_type": "execute_result"
    }
   ],
   "source": [
    "final=queen(eng(equipo1),eng(equipo2))\n",
    "final"
   ]
  },
  {
   "cell_type": "code",
   "execution_count": null,
   "metadata": {},
   "outputs": [],
   "source": []
  }
 ],
 "metadata": {
  "kernelspec": {
   "display_name": "Python 3 (ipykernel)",
   "language": "python",
   "name": "python3"
  },
  "language_info": {
   "codemirror_mode": {
    "name": "ipython",
    "version": 3
   },
   "file_extension": ".py",
   "mimetype": "text/x-python",
   "name": "python",
   "nbconvert_exporter": "python",
   "pygments_lexer": "ipython3",
   "version": "3.9.12"
  },
  "vscode": {
   "interpreter": {
    "hash": "99438a51407a28b2c7fd5ef9c064559cc1666a86fbf251463fb3114ca77fac33"
   }
  }
 },
 "nbformat": 4,
 "nbformat_minor": 2
}
